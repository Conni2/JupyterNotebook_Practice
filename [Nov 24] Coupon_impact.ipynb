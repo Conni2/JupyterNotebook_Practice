{
  "nbformat": 4,
  "nbformat_minor": 0,
  "metadata": {
    "colab": {
      "provenance": []
    },
    "kernelspec": {
      "name": "python3",
      "display_name": "Python 3"
    },
    "language_info": {
      "name": "python"
    }
  },
  "cells": [
    {
      "cell_type": "code",
      "execution_count": 1,
      "metadata": {
        "colab": {
          "base_uri": "https://localhost:8080/"
        },
        "id": "rUdB8PKTnisk",
        "outputId": "3f2a6296-705c-47ea-d523-cd14747f9b27"
      },
      "outputs": [
        {
          "output_type": "stream",
          "name": "stdout",
          "text": [
            "Reading package lists... Done\n",
            "Building dependency tree... Done\n",
            "Reading state information... Done\n",
            "The following NEW packages will be installed:\n",
            "  fonts-nanum\n",
            "0 upgraded, 1 newly installed, 0 to remove and 10 not upgraded.\n",
            "Need to get 10.3 MB of archives.\n",
            "After this operation, 34.1 MB of additional disk space will be used.\n",
            "Get:1 http://archive.ubuntu.com/ubuntu jammy/universe amd64 fonts-nanum all 20200506-1 [10.3 MB]\n",
            "Fetched 10.3 MB in 3s (3,682 kB/s)\n",
            "debconf: unable to initialize frontend: Dialog\n",
            "debconf: (No usable dialog-like program is installed, so the dialog based frontend cannot be used. at /usr/share/perl5/Debconf/FrontEnd/Dialog.pm line 78, <> line 1.)\n",
            "debconf: falling back to frontend: Readline\n",
            "debconf: unable to initialize frontend: Readline\n",
            "debconf: (This frontend requires a controlling tty.)\n",
            "debconf: falling back to frontend: Teletype\n",
            "dpkg-preconfigure: unable to re-open stdin: \n",
            "Selecting previously unselected package fonts-nanum.\n",
            "(Reading database ... 120880 files and directories currently installed.)\n",
            "Preparing to unpack .../fonts-nanum_20200506-1_all.deb ...\n",
            "Unpacking fonts-nanum (20200506-1) ...\n",
            "Setting up fonts-nanum (20200506-1) ...\n",
            "Processing triggers for fontconfig (2.13.1-4.2ubuntu5) ...\n",
            "/usr/share/fonts: caching, new cache contents: 0 fonts, 1 dirs\n",
            "/usr/share/fonts/truetype: caching, new cache contents: 0 fonts, 3 dirs\n",
            "/usr/share/fonts/truetype/humor-sans: caching, new cache contents: 1 fonts, 0 dirs\n",
            "/usr/share/fonts/truetype/liberation: caching, new cache contents: 16 fonts, 0 dirs\n",
            "/usr/share/fonts/truetype/nanum: caching, new cache contents: 12 fonts, 0 dirs\n",
            "/usr/local/share/fonts: caching, new cache contents: 0 fonts, 0 dirs\n",
            "/root/.local/share/fonts: skipping, no such directory\n",
            "/root/.fonts: skipping, no such directory\n",
            "/usr/share/fonts/truetype: skipping, looped directory detected\n",
            "/usr/share/fonts/truetype/humor-sans: skipping, looped directory detected\n",
            "/usr/share/fonts/truetype/liberation: skipping, looped directory detected\n",
            "/usr/share/fonts/truetype/nanum: skipping, looped directory detected\n",
            "/var/cache/fontconfig: cleaning cache directory\n",
            "/root/.cache/fontconfig: not cleaning non-existent cache directory\n",
            "/root/.fontconfig: not cleaning non-existent cache directory\n",
            "fc-cache: succeeded\n"
          ]
        }
      ],
      "source": [
        "!sudo apt-get install -y fonts-nanum\n",
        "!sudo fc-cache -fv\n",
        "!rm ~/.cache/matplotlib -rf"
      ]
    },
    {
      "cell_type": "code",
      "source": [
        "import pandas as pd\n",
        "import numpy as np\n",
        "import matplotlib.pyplot as plt\n",
        "plt.rc('font', family='NanumBarunGothic')\n",
        "\n",
        "sparta_data = pd.read_table('/content/user_db1.csv', sep = ',')\n",
        "\n",
        "#할인 혜택 각각 받고 안받은 사람들의 수\n",
        "sum_of_students_by_discounted = sparta_data[sparta_data['group']==1]['user_id'].count()\n",
        "sum_of_students_by_not_discounted = sparta_data[sparta_data['group']==0]['user_id'].count()\n",
        "\n",
        "#전환율 구하기\n",
        "percent_of_students_by_not_discounted = sum_of_students_by_not_discounted/12000 *100\n",
        "percent_of_students_by_discounted = sum_of_students_by_discounted/12000 *100\n",
        "print(percent_of_students_by_not_discounted , percent_of_students_by_discounted )\n",
        "\n",
        "\n",
        "#그래프 사이즈\n",
        "plt.figure(figsize=(10,5))\n",
        "#x 그룹 지정하기\n",
        "x_list =[\"정가 구입 그룹\", \"할인 적용 그룹\"]\n",
        "#y 값\n",
        "#각각 어떤 값이 들어가야 하는지 입력해 볼까요?\n",
        "y_list = [percent_of_students_by_not_discounted ,percent_of_students_by_discounted]\n",
        "\n",
        "#x,y값 설정\n",
        "plt.bar(x_list, y_list)\n",
        "#그래프 타이틀\n",
        "plt.title('할인 여부 결제 전환율 비교 분석')\n",
        "#x축 레이블\n",
        "plt.xlabel('할인 적용 여부')\n",
        "#y축 레이블\n",
        "plt.ylabel('결제 전환율')\n",
        "#그래프 보여주기\n",
        "plt.show()"
      ],
      "metadata": {
        "colab": {
          "base_uri": "https://localhost:8080/",
          "height": 479
        },
        "id": "WWFxUt-Ooqf2",
        "outputId": "6f13e642-6921-47b7-b9aa-ac29e21e8ad1"
      },
      "execution_count": 3,
      "outputs": [
        {
          "output_type": "stream",
          "name": "stdout",
          "text": [
            "20.616666666666667 47.11666666666667\n"
          ]
        },
        {
          "output_type": "display_data",
          "data": {
            "text/plain": [
              "<Figure size 1000x500 with 1 Axes>"
            ],
            "image/png": "[encoded data removed]"
          },
          "metadata": {}
        }
      ]
    },
    {
      "cell_type": "markdown",
      "source": [
        "#조건 걸어서 세기 (groupby랑 비슷한데 그룹이 1인 애들만 골라서 세줌)\n",
        "\n",
        "```\n",
        "df[df['column' (조건)]['column'].count()\n",
        "```\n",
        "\n"
      ],
      "metadata": {
        "id": "edk5O5KWov8n"
      }
    }
  ]
}