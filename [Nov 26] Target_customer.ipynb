{
  "nbformat": 4,
  "nbformat_minor": 0,
  "metadata": {
    "colab": {
      "provenance": []
    },
    "kernelspec": {
      "name": "python3",
      "display_name": "Python 3"
    },
    "language_info": {
      "name": "python"
    }
  },
  "cells": [
    {
      "cell_type": "code",
      "execution_count": 14,
      "metadata": {
        "colab": {
          "base_uri": "https://localhost:8080/",
          "height": 612
        },
        "id": "Grz9def0pEwG",
        "outputId": "b895ac3f-042d-482f-e87f-8511b9b47c11"
      },
      "outputs": [
        {
          "output_type": "display_data",
          "data": {
            "text/plain": [
              "<Figure size 600x600 with 1 Axes>"
            ],
            "image/png": "[encoded data removed]"
          },
          "metadata": {}
        }
      ],
      "source": [
        "import pandas as pd\n",
        "import matplotlib.pyplot as plt\n",
        "plt.rc('font', family='NanumBarunGothic')\n",
        "\n",
        "sparta_data = pd.read_table('/content/sprata_data.csv', sep = ',')\n",
        "progress_rate_by_age = sparta_data.groupby('age')['progress_rate'].sum()\n",
        "number_people_by_age = sparta_data.groupby('age')['_id'].count()\n",
        "\n",
        "average_progress_rate = progress_rate_by_age / number_people_by_age\n",
        "average_progress_rate\n",
        "\n",
        "#plt.figure(width, height)\n",
        "plt.figure(figsize=(6,6))\n",
        "\n",
        "#그래프의 x축 눈금 설정\n",
        "plt.xticks([10,20,30,40,50])\n",
        "\n",
        "#plt.bar(X축값, Y축값)\n",
        "plt.bar(average_progress_rate.index, average_progress_rate)\n",
        "\n",
        "\n",
        "#각 value 추가\n",
        "bar = plt.bar(average_progress_rate.index, average_progress_rate, width=8)\n",
        "for rect in bar:\n",
        "    height = rect.get_height()\n",
        "    plt.text(rect.get_x() + rect.get_width()/2.0, height, '%.1f' % height, ha='center', va='bottom', size = 12)\n",
        "\n",
        "\n",
        "#그래프의 제목\n",
        "#타이틀과 그래프와의 간격은 pad= 수치\n",
        "plt.title('[나이대 별 평균 수강율]',fontsize=15,pad=20)\n",
        "\n",
        "#그래프의 x축 라벨 이름\n",
        "#labelpad 파라미터는 축 레이블의 여백을 지정합니다.\n",
        "plt.xlabel('나이',fontsize=12,labelpad=20)\n",
        "\n",
        "#그래프의 y축 라벨 이름\n",
        "plt.ylabel('수강생(명)',fontsize=14,rotation=360,labelpad=35)\n",
        "\n",
        "plt.show()"
      ]
    },
    {
      "cell_type": "markdown",
      "source": [
        "#나잇대별 수강률 확인\n",
        "이번에는 groupby로 하지만 count가 아니라 sum을 구하면 됨(수강률이기 때문)\n",
        "\n",
        "`df.groupby('그룹짓는 column')['보고싶은 값의 column'].sum()`\n",
        "\n",
        "```\n",
        "progress_rate_by_age = sparta_data.groupby('age')['progress_rate'].sum()\n",
        "```\n",
        "\n",
        "#나잇대별 수강인원 구하기\n",
        "이번에는 id로 수강인원을 구해서 세면됨. 똑같이 groupby 하되 count\n",
        "\n",
        "```\n",
        "number_people_by_age = sparta_data.groupby('age')['_id'].count()\n",
        "```\n",
        "\n",
        "#나잇대별 평균 완주율 구하기\n",
        "\n",
        "둘다 df니까 사칙연산 서로 가능\n",
        "\n",
        "따라서 바로\n",
        "\n",
        "\n",
        "```\n",
        "average_progress_rate = progress_rate_by_age / number_people_by_age\n",
        "\n",
        "```\n",
        "\n",
        "\n"
      ],
      "metadata": {
        "id": "qEuTq3N7HwHG"
      }
    },
    {
      "cell_type": "code",
      "source": [
        "!sudo apt-get install -y fonts-nanum\n",
        "!sudo fc-cache -fv\n",
        "!rm ~/.cache/matplotlib -rf"
      ],
      "metadata": {
        "colab": {
          "base_uri": "https://localhost:8080/"
        },
        "id": "miKu09AOETHZ",
        "outputId": "e023f465-0b1c-4a8c-ca59-2b14fe78cf67"
      },
      "execution_count": 1,
      "outputs": [
        {
          "output_type": "stream",
          "name": "stdout",
          "text": [
            "Reading package lists... Done\n",
            "Building dependency tree... Done\n",
            "Reading state information... Done\n",
            "The following NEW packages will be installed:\n",
            "  fonts-nanum\n",
            "0 upgraded, 1 newly installed, 0 to remove and 10 not upgraded.\n",
            "Need to get 10.3 MB of archives.\n",
            "After this operation, 34.1 MB of additional disk space will be used.\n",
            "Get:1 http://archive.ubuntu.com/ubuntu jammy/universe amd64 fonts-nanum all 20200506-1 [10.3 MB]\n",
            "Fetched 10.3 MB in 2s (6,261 kB/s)\n",
            "debconf: unable to initialize frontend: Dialog\n",
            "debconf: (No usable dialog-like program is installed, so the dialog based frontend cannot be used. at /usr/share/perl5/Debconf/FrontEnd/Dialog.pm line 78, <> line 1.)\n",
            "debconf: falling back to frontend: Readline\n",
            "debconf: unable to initialize frontend: Readline\n",
            "debconf: (This frontend requires a controlling tty.)\n",
            "debconf: falling back to frontend: Teletype\n",
            "dpkg-preconfigure: unable to re-open stdin: \n",
            "Selecting previously unselected package fonts-nanum.\n",
            "(Reading database ... 120880 files and directories currently installed.)\n",
            "Preparing to unpack .../fonts-nanum_20200506-1_all.deb ...\n",
            "Unpacking fonts-nanum (20200506-1) ...\n",
            "Setting up fonts-nanum (20200506-1) ...\n",
            "Processing triggers for fontconfig (2.13.1-4.2ubuntu5) ...\n",
            "/usr/share/fonts: caching, new cache contents: 0 fonts, 1 dirs\n",
            "/usr/share/fonts/truetype: caching, new cache contents: 0 fonts, 3 dirs\n",
            "/usr/share/fonts/truetype/humor-sans: caching, new cache contents: 1 fonts, 0 dirs\n",
            "/usr/share/fonts/truetype/liberation: caching, new cache contents: 16 fonts, 0 dirs\n",
            "/usr/share/fonts/truetype/nanum: caching, new cache contents: 12 fonts, 0 dirs\n",
            "/usr/local/share/fonts: caching, new cache contents: 0 fonts, 0 dirs\n",
            "/root/.local/share/fonts: skipping, no such directory\n",
            "/root/.fonts: skipping, no such directory\n",
            "/usr/share/fonts/truetype: skipping, looped directory detected\n",
            "/usr/share/fonts/truetype/humor-sans: skipping, looped directory detected\n",
            "/usr/share/fonts/truetype/liberation: skipping, looped directory detected\n",
            "/usr/share/fonts/truetype/nanum: skipping, looped directory detected\n",
            "/var/cache/fontconfig: cleaning cache directory\n",
            "/root/.cache/fontconfig: not cleaning non-existent cache directory\n",
            "/root/.fontconfig: not cleaning non-existent cache directory\n",
            "fc-cache: succeeded\n"
          ]
        }
      ]
    }
  ]
}