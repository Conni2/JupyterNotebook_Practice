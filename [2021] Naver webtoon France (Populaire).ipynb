{
 "cells": [
  {
   "cell_type": "code",
   "execution_count": 11,
   "metadata": {
    "scrolled": true
   },
   "outputs": [
    {
     "name": "stdout",
     "output_type": "stream",
     "text": [
      "[\"J'ai élevé une bête\", 'True Beauty', 'SUPER CASTING: BTS', \"Let's Play\", 'SubZero', \"L'impératrice remariée\", 'High School Mercenary', 'Midnight Poppy Land', \"Traditions d'Olympus\", 'White Blood', 'THIS GUY IS MY SUNSHINE', 'Ulysse&Léon', 'Summer Boo', 'The Permanence Guy ', 'Linked Haters', '3 Vœux ', 'Histoires pas trop compliquées', 'The Kindest Demon', \"La vie quotidienne d'un couple gay\", 'Me and Him [BL]']\n"
     ]
    }
   ],
   "source": [
    "import requests\n",
    "from bs4 import BeautifulSoup\n",
    "\n",
    "#ranking페이지 받아오기 - 남자10대\n",
    "response = requests.get('https://www.webtoons.com/fr/top?rankingGenre=ALL&target=MALE10')\n",
    "soup = BeautifulSoup(response.text, 'html.parser')\n",
    "li_tags = soup.select('.lst_type1 .subj')\n",
    "toon_rank = []\n",
    "for li in li_tags:\n",
    "    toon_rank.append(li.text)\n",
    "toon_rank_10M = toon_rank[10:]\n",
    "\n",
    "print(toon_rank_10M)\n"
   ]
  },
  {
   "cell_type": "code",
   "execution_count": 12,
   "metadata": {},
   "outputs": [
    {
     "name": "stdout",
     "output_type": "stream",
     "text": [
      "[\"J'ai élevé une bête\", 'True Beauty', 'SUPER CASTING: BTS', \"Let's Play\", 'SubZero', \"L'impératrice remariée\", 'High School Mercenary', 'Midnight Poppy Land', \"Traditions d'Olympus\", 'White Blood', 'THIS GUY IS MY SUNSHINE', 'Ulysse&Léon', 'Summer Boo', 'The Permanence Guy ', 'Linked Haters', '3 Vœux ', 'Histoires pas trop compliquées', 'The Kindest Demon', \"La vie quotidienne d'un couple gay\", 'Me and Him [BL]']\n"
     ]
    }
   ],
   "source": [
    "import requests\n",
    "from bs4 import BeautifulSoup\n",
    "\n",
    "#ranking페이지 받아오기 - 여자 10대\n",
    "response = requests.get('https://www.webtoons.com/fr/top?rankingGenre=ALL&target=FEMALE10')\n",
    "soup = BeautifulSoup(response.text, 'html.parser')\n",
    "li_tags = soup.select('.lst_type1 .subj')\n",
    "toon_rank = []\n",
    "for li in li_tags:\n",
    "    toon_rank.append(li.text)\n",
    "toon_rank_10F = toon_rank[10:]\n",
    "\n",
    "print(toon_rank_10F)"
   ]
  },
  {
   "cell_type": "code",
   "execution_count": 13,
   "metadata": {},
   "outputs": [
    {
     "name": "stdout",
     "output_type": "stream",
     "text": [
      "[\"J'ai élevé une bête\", 'True Beauty', 'SUPER CASTING: BTS', \"Let's Play\", 'SubZero', \"L'impératrice remariée\", 'High School Mercenary', 'Midnight Poppy Land', \"Traditions d'Olympus\", 'White Blood', 'THIS GUY IS MY SUNSHINE', 'Ulysse&Léon', 'Summer Boo', 'The Permanence Guy ', 'Linked Haters', '3 Vœux ', 'Histoires pas trop compliquées', 'The Kindest Demon', \"La vie quotidienne d'un couple gay\", 'Me and Him [BL]']\n"
     ]
    }
   ],
   "source": [
    "import requests\n",
    "from bs4 import BeautifulSoup\n",
    "\n",
    "#ranking페이지 받아오기 - 남자20대\n",
    "response = requests.get('https://www.webtoons.com/fr/top?rankingGenre=ALL&target=MALE20')\n",
    "soup = BeautifulSoup(response.text, 'html.parser')\n",
    "li_tags = soup.select('.lst_type1 .subj')\n",
    "toon_rank = []\n",
    "for li in li_tags:\n",
    "    toon_rank.append(li.text)\n",
    "toon_rank_20M = toon_rank[10:]\n",
    "\n",
    "print(toon_rank_20M)\n",
    "\n"
   ]
  },
  {
   "cell_type": "code",
   "execution_count": 14,
   "metadata": {},
   "outputs": [
    {
     "name": "stdout",
     "output_type": "stream",
     "text": [
      "[\"J'ai élevé une bête\", 'True Beauty', 'SUPER CASTING: BTS', \"Let's Play\", 'SubZero', \"L'impératrice remariée\", 'High School Mercenary', 'Midnight Poppy Land', \"Traditions d'Olympus\", 'White Blood', 'THIS GUY IS MY SUNSHINE', 'Ulysse&Léon', 'Summer Boo', 'The Permanence Guy ', 'Linked Haters', '3 Vœux ', 'Histoires pas trop compliquées', 'The Kindest Demon', \"La vie quotidienne d'un couple gay\", 'Me and Him [BL]']\n"
     ]
    }
   ],
   "source": [
    "import requests\n",
    "from bs4 import BeautifulSoup\n",
    "\n",
    "#ranking페이지 받아오기 - 여자 20대\n",
    "response = requests.get('https://www.webtoons.com/fr/top?rankingGenre=ALL&target=FEMALE20')\n",
    "soup = BeautifulSoup(response.text, 'html.parser')\n",
    "li_tags = soup.select('.lst_type1 .subj')\n",
    "toon_rank = []\n",
    "for li in li_tags:\n",
    "    toon_rank.append(li.text)\n",
    "toon_rank_20F = toon_rank[10:]\n",
    "\n",
    "print(toon_rank_20F)\n",
    "\n",
    "\n"
   ]
  },
  {
   "cell_type": "code",
   "execution_count": 15,
   "metadata": {},
   "outputs": [
    {
     "name": "stdout",
     "output_type": "stream",
     "text": [
      "[\"J'ai élevé une bête\", 'True Beauty', 'SUPER CASTING: BTS', \"Let's Play\", 'SubZero', \"L'impératrice remariée\", 'High School Mercenary', 'Midnight Poppy Land', \"Traditions d'Olympus\", 'White Blood', 'THIS GUY IS MY SUNSHINE', 'Ulysse&Léon', 'Summer Boo', 'The Permanence Guy ', 'Linked Haters', '3 Vœux ', 'Histoires pas trop compliquées', 'The Kindest Demon', \"La vie quotidienne d'un couple gay\", 'Me and Him [BL]']\n"
     ]
    }
   ],
   "source": [
    "import requests\n",
    "from bs4 import BeautifulSoup\n",
    "\n",
    "#ranking페이지 받아오기 - 남자30대+\n",
    "response = requests.get('https://www.webtoons.com/fr/top?rankingGenre=ALL&target=MALE30')\n",
    "soup = BeautifulSoup(response.text, 'html.parser')\n",
    "li_tags = soup.select('.lst_type1 .subj')\n",
    "toon_rank = []\n",
    "for li in li_tags:\n",
    "    toon_rank.append(li.text)\n",
    "toon_rank_over30M = toon_rank[10:]\n",
    "\n",
    "print(toon_rank_over30M)\n",
    "\n"
   ]
  },
  {
   "cell_type": "code",
   "execution_count": 16,
   "metadata": {},
   "outputs": [
    {
     "name": "stdout",
     "output_type": "stream",
     "text": [
      "[\"J'ai élevé une bête\", 'True Beauty', 'SUPER CASTING: BTS', \"Let's Play\", 'SubZero', \"L'impératrice remariée\", 'High School Mercenary', 'Midnight Poppy Land', \"Traditions d'Olympus\", 'White Blood', 'THIS GUY IS MY SUNSHINE', 'Ulysse&Léon', 'Summer Boo', 'The Permanence Guy ', 'Linked Haters', '3 Vœux ', 'Histoires pas trop compliquées', 'The Kindest Demon', \"La vie quotidienne d'un couple gay\", 'Me and Him [BL]']\n"
     ]
    }
   ],
   "source": [
    "import requests\n",
    "from bs4 import BeautifulSoup\n",
    "\n",
    "#ranking페이지 받아오기 - 여자30대+\n",
    "response = requests.get('https://www.webtoons.com/fr/top?rankingGenre=ALL&target=FEMALE30')\n",
    "soup = BeautifulSoup(response.text, 'html.parser')\n",
    "li_tags = soup.select('.lst_type1 .subj')\n",
    "toon_rank = []\n",
    "for li in li_tags:\n",
    "    toon_rank.append(li.text)\n",
    "toon_rank_over30F = toon_rank[10:]\n",
    "\n",
    "print(toon_rank_over30F)"
   ]
  },
  {
   "cell_type": "code",
   "execution_count": 17,
   "metadata": {},
   "outputs": [
    {
     "data": {
      "text/html": [
       "<div>\n",
       "<style scoped>\n",
       "    .dataframe tbody tr th:only-of-type {\n",
       "        vertical-align: middle;\n",
       "    }\n",
       "\n",
       "    .dataframe tbody tr th {\n",
       "        vertical-align: top;\n",
       "    }\n",
       "\n",
       "    .dataframe thead th {\n",
       "        text-align: right;\n",
       "    }\n",
       "</style>\n",
       "<table border=\"1\" class=\"dataframe\">\n",
       "  <thead>\n",
       "    <tr style=\"text-align: right;\">\n",
       "      <th></th>\n",
       "      <th>10s Male</th>\n",
       "      <th>10s Female</th>\n",
       "      <th>20s Male</th>\n",
       "      <th>20s Female</th>\n",
       "      <th>30+ Male</th>\n",
       "      <th>30+ Female</th>\n",
       "    </tr>\n",
       "    <tr>\n",
       "      <th>Rank</th>\n",
       "      <th></th>\n",
       "      <th></th>\n",
       "      <th></th>\n",
       "      <th></th>\n",
       "      <th></th>\n",
       "      <th></th>\n",
       "    </tr>\n",
       "  </thead>\n",
       "  <tbody>\n",
       "    <tr>\n",
       "      <th>1</th>\n",
       "      <td>J'ai élevé une bête</td>\n",
       "      <td>J'ai élevé une bête</td>\n",
       "      <td>J'ai élevé une bête</td>\n",
       "      <td>J'ai élevé une bête</td>\n",
       "      <td>J'ai élevé une bête</td>\n",
       "      <td>J'ai élevé une bête</td>\n",
       "    </tr>\n",
       "    <tr>\n",
       "      <th>2</th>\n",
       "      <td>True Beauty</td>\n",
       "      <td>True Beauty</td>\n",
       "      <td>True Beauty</td>\n",
       "      <td>True Beauty</td>\n",
       "      <td>True Beauty</td>\n",
       "      <td>True Beauty</td>\n",
       "    </tr>\n",
       "    <tr>\n",
       "      <th>3</th>\n",
       "      <td>SUPER CASTING: BTS</td>\n",
       "      <td>SUPER CASTING: BTS</td>\n",
       "      <td>SUPER CASTING: BTS</td>\n",
       "      <td>SUPER CASTING: BTS</td>\n",
       "      <td>SUPER CASTING: BTS</td>\n",
       "      <td>SUPER CASTING: BTS</td>\n",
       "    </tr>\n",
       "    <tr>\n",
       "      <th>4</th>\n",
       "      <td>Let's Play</td>\n",
       "      <td>Let's Play</td>\n",
       "      <td>Let's Play</td>\n",
       "      <td>Let's Play</td>\n",
       "      <td>Let's Play</td>\n",
       "      <td>Let's Play</td>\n",
       "    </tr>\n",
       "    <tr>\n",
       "      <th>5</th>\n",
       "      <td>SubZero</td>\n",
       "      <td>SubZero</td>\n",
       "      <td>SubZero</td>\n",
       "      <td>SubZero</td>\n",
       "      <td>SubZero</td>\n",
       "      <td>SubZero</td>\n",
       "    </tr>\n",
       "    <tr>\n",
       "      <th>6</th>\n",
       "      <td>L'impératrice remariée</td>\n",
       "      <td>L'impératrice remariée</td>\n",
       "      <td>L'impératrice remariée</td>\n",
       "      <td>L'impératrice remariée</td>\n",
       "      <td>L'impératrice remariée</td>\n",
       "      <td>L'impératrice remariée</td>\n",
       "    </tr>\n",
       "    <tr>\n",
       "      <th>7</th>\n",
       "      <td>High School Mercenary</td>\n",
       "      <td>High School Mercenary</td>\n",
       "      <td>High School Mercenary</td>\n",
       "      <td>High School Mercenary</td>\n",
       "      <td>High School Mercenary</td>\n",
       "      <td>High School Mercenary</td>\n",
       "    </tr>\n",
       "    <tr>\n",
       "      <th>8</th>\n",
       "      <td>Midnight Poppy Land</td>\n",
       "      <td>Midnight Poppy Land</td>\n",
       "      <td>Midnight Poppy Land</td>\n",
       "      <td>Midnight Poppy Land</td>\n",
       "      <td>Midnight Poppy Land</td>\n",
       "      <td>Midnight Poppy Land</td>\n",
       "    </tr>\n",
       "    <tr>\n",
       "      <th>9</th>\n",
       "      <td>Traditions d'Olympus</td>\n",
       "      <td>Traditions d'Olympus</td>\n",
       "      <td>Traditions d'Olympus</td>\n",
       "      <td>Traditions d'Olympus</td>\n",
       "      <td>Traditions d'Olympus</td>\n",
       "      <td>Traditions d'Olympus</td>\n",
       "    </tr>\n",
       "    <tr>\n",
       "      <th>10</th>\n",
       "      <td>White Blood</td>\n",
       "      <td>White Blood</td>\n",
       "      <td>White Blood</td>\n",
       "      <td>White Blood</td>\n",
       "      <td>White Blood</td>\n",
       "      <td>White Blood</td>\n",
       "    </tr>\n",
       "  </tbody>\n",
       "</table>\n",
       "</div>"
      ],
      "text/plain": [
       "                    10s Male              10s Female                20s Male  \\\n",
       "Rank                                                                           \n",
       "1        J'ai élevé une bête     J'ai élevé une bête     J'ai élevé une bête   \n",
       "2                True Beauty             True Beauty             True Beauty   \n",
       "3         SUPER CASTING: BTS      SUPER CASTING: BTS      SUPER CASTING: BTS   \n",
       "4                 Let's Play              Let's Play              Let's Play   \n",
       "5                    SubZero                 SubZero                 SubZero   \n",
       "6     L'impératrice remariée  L'impératrice remariée  L'impératrice remariée   \n",
       "7      High School Mercenary   High School Mercenary   High School Mercenary   \n",
       "8        Midnight Poppy Land     Midnight Poppy Land     Midnight Poppy Land   \n",
       "9       Traditions d'Olympus    Traditions d'Olympus    Traditions d'Olympus   \n",
       "10               White Blood             White Blood             White Blood   \n",
       "\n",
       "                  20s Female                30+ Male              30+ Female  \n",
       "Rank                                                                          \n",
       "1        J'ai élevé une bête     J'ai élevé une bête     J'ai élevé une bête  \n",
       "2                True Beauty             True Beauty             True Beauty  \n",
       "3         SUPER CASTING: BTS      SUPER CASTING: BTS      SUPER CASTING: BTS  \n",
       "4                 Let's Play              Let's Play              Let's Play  \n",
       "5                    SubZero                 SubZero                 SubZero  \n",
       "6     L'impératrice remariée  L'impératrice remariée  L'impératrice remariée  \n",
       "7      High School Mercenary   High School Mercenary   High School Mercenary  \n",
       "8        Midnight Poppy Land     Midnight Poppy Land     Midnight Poppy Land  \n",
       "9       Traditions d'Olympus    Traditions d'Olympus    Traditions d'Olympus  \n",
       "10               White Blood             White Blood             White Blood  "
      ]
     },
     "execution_count": 17,
     "metadata": {},
     "output_type": "execute_result"
    }
   ],
   "source": [
    "import pandas as pd\n",
    "import numpy as np\n",
    "\n",
    "records = []\n",
    "\n",
    "for i in range(10):\n",
    "        record = []\n",
    "        record.append(toon_rank_10M[i])\n",
    "        record.append(toon_rank_10F[i])\n",
    "        record.append(toon_rank_20M[i])\n",
    "        record.append(toon_rank_20F[i])\n",
    "        record.append(toon_rank_over30M[i])\n",
    "        record.append(toon_rank_over30F[i])\n",
    "        records.append(record)\n",
    "        \n",
    "#데이터프레임 만들기\n",
    "df = pd.DataFrame(data=records, columns=['10s Male', '10s Female', '20s Male', '20s Female', '30+ Male', '30+ Female'])\n",
    "\n",
    "df['Rank'] = 1, 2, 3, 4, 5, 6, 7, 8, 9, 10\n",
    "\n",
    "df.set_index('Rank')"
   ]
  },
  {
   "cell_type": "code",
   "execution_count": null,
   "metadata": {},
   "outputs": [],
   "source": []
  },
  {
   "cell_type": "code",
   "execution_count": null,
   "metadata": {},
   "outputs": [],
   "source": []
  }
 ],
 "metadata": {
  "kernelspec": {
   "display_name": "Python 3",
   "language": "python",
   "name": "python3"
  },
  "language_info": {
   "codemirror_mode": {
    "name": "ipython",
    "version": 3
   },
   "file_extension": ".py",
   "mimetype": "text/x-python",
   "name": "python",
   "nbconvert_exporter": "python",
   "pygments_lexer": "ipython3",
   "version": "3.8.5"
  }
 },
 "nbformat": 4,
 "nbformat_minor": 4
}
