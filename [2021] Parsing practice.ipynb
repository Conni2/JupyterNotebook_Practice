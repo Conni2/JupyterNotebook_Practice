{
 "cells": [
  {
   "cell_type": "code",
   "execution_count": 2,
   "metadata": {},
   "outputs": [
    {
     "name": "stdout",
     "output_type": "stream",
     "text": [
      "['1 아이유 (IU)', '2 방탄소년단', '3 Red Velvet (레드벨벳)', '4 IKON', '5 멜로망스', '6 다비치', '7 윤딴딴', '8 수지 (SUZY)', '9 김동률', '10 폴킴']\n"
     ]
    }
   ],
   "source": [
    "\n",
    "import requests\n",
    "from bs4 import BeautifulSoup\n",
    "\n",
    "# HTML 코드 받아오기\n",
    "response = requests.get(\"https://workey.codeit.kr/music/index\")\n",
    "\n",
    "# BeautifulSoup 타입으로 변환\n",
    "soup = BeautifulSoup(response.text, 'html.parser')\n",
    "\n",
    "# \"popular__order\" 클래스를 가진 태그에 중첩된 모든 <li> 태그 선택\n",
    "li_tags = soup.select(\".popular__order li\")\n",
    "\n",
    "# 빈 리스트 생성\n",
    "popular_artists = []\n",
    "\n",
    "# 텍스트 추출해서 리스트에 담기\n",
    "for li in li_tags:\n",
    "    popular_artists.append(li.text.strip())\n",
    "\n",
    "# 결과 출력\n",
    "print(popular_artists)\n"
   ]
  },
  {
   "cell_type": "code",
   "execution_count": null,
   "metadata": {},
   "outputs": [],
   "source": []
  }
 ],
 "metadata": {
  "kernelspec": {
   "display_name": "Python 3",
   "language": "python",
   "name": "python3"
  },
  "language_info": {
   "codemirror_mode": {
    "name": "ipython",
    "version": 3
   },
   "file_extension": ".py",
   "mimetype": "text/x-python",
   "name": "python",
   "nbconvert_exporter": "python",
   "pygments_lexer": "ipython3",
   "version": "3.8.5"
  }
 },
 "nbformat": 4,
 "nbformat_minor": 4
}
