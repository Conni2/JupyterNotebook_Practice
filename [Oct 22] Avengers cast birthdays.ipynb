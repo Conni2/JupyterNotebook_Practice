{
 "cells": [
  {
   "cell_type": "code",
   "execution_count": 1,
   "metadata": {},
   "outputs": [
    {
     "data": {
      "text/html": [
       "<div>\n",
       "<style scoped>\n",
       "    .dataframe tbody tr th:only-of-type {\n",
       "        vertical-align: middle;\n",
       "    }\n",
       "\n",
       "    .dataframe tbody tr th {\n",
       "        vertical-align: top;\n",
       "    }\n",
       "\n",
       "    .dataframe thead th {\n",
       "        text-align: right;\n",
       "    }\n",
       "</style>\n",
       "<table border=\"1\" class=\"dataframe\">\n",
       "  <thead>\n",
       "    <tr style=\"text-align: right;\">\n",
       "      <th></th>\n",
       "      <th>Cast</th>\n",
       "      <th>Birthdays</th>\n",
       "      <th>Role</th>\n",
       "    </tr>\n",
       "  </thead>\n",
       "  <tbody>\n",
       "    <tr>\n",
       "      <th>0</th>\n",
       "      <td>Chris Evans</td>\n",
       "      <td>June 13, 1981</td>\n",
       "      <td>Captain America</td>\n",
       "    </tr>\n",
       "    <tr>\n",
       "      <th>1</th>\n",
       "      <td>Tom Holland</td>\n",
       "      <td>June 1, 1996</td>\n",
       "      <td>Spiderman</td>\n",
       "    </tr>\n",
       "    <tr>\n",
       "      <th>2</th>\n",
       "      <td>Chris Hemsworth</td>\n",
       "      <td>August 11, 1983</td>\n",
       "      <td>Thor</td>\n",
       "    </tr>\n",
       "    <tr>\n",
       "      <th>3</th>\n",
       "      <td>Robert Downey Jr.</td>\n",
       "      <td>April 4, 1965</td>\n",
       "      <td>Ironman</td>\n",
       "    </tr>\n",
       "    <tr>\n",
       "      <th>4</th>\n",
       "      <td>Scarlett Johansson</td>\n",
       "      <td>November 22, 1984</td>\n",
       "      <td>Black Widow</td>\n",
       "    </tr>\n",
       "    <tr>\n",
       "      <th>5</th>\n",
       "      <td>Elizabeth Olsen</td>\n",
       "      <td>February 16, 1989</td>\n",
       "      <td>Scarlet Witch</td>\n",
       "    </tr>\n",
       "  </tbody>\n",
       "</table>\n",
       "</div>"
      ],
      "text/plain": [
       "                 Cast          Birthdays             Role\n",
       "0         Chris Evans      June 13, 1981  Captain America\n",
       "1         Tom Holland       June 1, 1996        Spiderman\n",
       "2     Chris Hemsworth    August 11, 1983             Thor\n",
       "3   Robert Downey Jr.      April 4, 1965          Ironman\n",
       "4  Scarlett Johansson  November 22, 1984      Black Widow\n",
       "5     Elizabeth Olsen  February 16, 1989    Scarlet Witch"
      ]
     },
     "execution_count": 1,
     "metadata": {},
     "output_type": "execute_result"
    }
   ],
   "source": [
    "import pandas as pd\n",
    "import numpy as np\n",
    "\n",
    "cast = ['Chris Evans', 'Tom Holland', 'Chris Hemsworth', 'Robert Downey Jr.', 'Scarlett Johansson', 'Elizabeth Olsen']\n",
    "bday = ['June 13, 1981', 'June 1, 1996', 'August 11, 1983', 'April 4, 1965', 'November 22, 1984','February 16, 1989' ]\n",
    "role = ['Captain America', 'Spiderman', 'Thor', 'Ironman', 'Black Widow', 'Scarlet Witch']\n",
    "\n",
    "avengers = {\n",
    "    'Cast' : cast,\n",
    "    'Birthdays': bday,\n",
    "    'Role': role\n",
    "}\n",
    "\n",
    "bday_avengers = pd.DataFrame(avengers)\n",
    "\n",
    "bday_avengers"
   ]
  }
 ],
 "metadata": {
  "kernelspec": {
   "display_name": "Python 3",
   "language": "python",
   "name": "python3"
  },
  "language_info": {
   "codemirror_mode": {
    "name": "ipython",
    "version": 3
   },
   "file_extension": ".py",
   "mimetype": "text/x-python",
   "name": "python",
   "nbconvert_exporter": "python",
   "pygments_lexer": "ipython3",
   "version": "3.8.5"
  }
 },
 "nbformat": 4,
 "nbformat_minor": 4
}
