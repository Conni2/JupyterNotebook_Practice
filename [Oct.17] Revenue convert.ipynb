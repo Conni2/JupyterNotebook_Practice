{
 "cells": [
  {
   "cell_type": "code",
   "execution_count": null,
   "metadata": {},
   "outputs": [],
   "source": [
    "import numpy as np\n",
    "\n",
    "revenue_in_yen = [\n",
    "    300000, 340000, 320000, 360000,\n",
    "    440000, 140000, 180000, 340000,\n",
    "    330000, 290000, 280000, 380000,\n",
    "    170000, 140000, 230000, 390000,\n",
    "    400000, 350000, 380000, 150000,\n",
    "    110000, 240000, 380000, 380000,\n",
    "    340000, 420000, 150000, 130000,\n",
    "    360000, 320000, 250000\n",
    "]\n",
    "\n",
    "revenue_in_dollar = [\n",
    "    1200, 1600, 1400, 1300,\n",
    "    2100, 1400, 1500, 2100,\n",
    "    1500, 1500, 2300, 2100,\n",
    "    2800, 2600, 1700, 1400,\n",
    "    2100, 2300, 1600, 1800,\n",
    "    2200, 2400, 2100, 2800,\n",
    "    1900, 2100, 1800, 2200,\n",
    "    2100, 1600, 1800\n",
    "]\n",
    "\n",
    "array_yen = np.array(revenue_in_yen)\n",
    "array_dollar = np.arrray(revenue_in_dollar)\n",
    "array_total_KRW = array_yen * 9.03 + array_dollar *"
   ]
  }
 ],
 "metadata": {
  "kernelspec": {
   "display_name": "Python 3",
   "language": "python",
   "name": "python3"
  },
  "language_info": {
   "codemirror_mode": {
    "name": "ipython",
    "version": 3
   },
   "file_extension": ".py",
   "mimetype": "text/x-python",
   "name": "python",
   "nbconvert_exporter": "python",
   "pygments_lexer": "ipython3",
   "version": "3.8.5"
  }
 },
 "nbformat": 4,
 "nbformat_minor": 4
}
